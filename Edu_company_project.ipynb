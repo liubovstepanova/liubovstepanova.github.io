{
 "cells": [
  {
   "cell_type": "markdown",
   "id": "67a7e68c-fdbc-4e7e-a2d6-eec403083df8",
   "metadata": {},
   "source": [
    "\n",
    "# ПРОЕКТ\n"
   ]
  },
  {
   "cell_type": "markdown",
   "id": "2ed63f55-e08e-418c-a402-dd32afbd5d67",
   "metadata": {
    "jupyter": {
     "source_hidden": true
    },
    "tags": []
   },
   "source": [
    "Ниже представлено решение тестового задания для образовательной платформы.\n",
    "Инструменты: Python, SQL, A/B - тестирование."
   ]
  },
  {
   "cell_type": "markdown",
   "id": "f9c2ec09-c47b-454d-b860-6b35d0545975",
   "metadata": {},
   "source": [
    "\n",
    "## Задание 1. A/B–тестирование\n"
   ]
  },
  {
   "cell_type": "markdown",
   "id": "e1dc1177-43de-435e-a221-2e4e16152ac1",
   "metadata": {
    "jupyter": {
     "source_hidden": true
    },
    "tags": []
   },
   "source": [
    "1.1 Условие\n",
    "\n",
    "Одной из основных задач аналитика в нашей команде является корректное проведение \n",
    "экспериментов. Для этого мы применяем метод A/B–тестирования. В ходе тестирования \n",
    "одной гипотезы целевой группе была предложена новая механика оплаты услуг на сайте, \n",
    "у контрольной группы оставалась базовая механика. В качестве задания вам необходимо \n",
    "проанализировать итоги эксперимента и сделать вывод, стоит ли запускать новую механику \n",
    "оплаты на всех пользователей."
   ]
  },
  {
   "cell_type": "markdown",
   "id": "48161e8a-b33f-4dc6-adef-651e54c63a41",
   "metadata": {
    "tags": []
   },
   "source": [
    "1.2 Входные данные\n",
    "\n",
    "В качестве входных данных вы имеете 4 csv-файла:\n",
    "\n",
    "groups.csv – файл с информацией о принадлежности пользователя к контрольной или \n",
    "экспериментальной группе (А – контроль, B – целевая группа) \n",
    "\n",
    "groups_add.csv – дополнительный файл с пользователями, который вам прислали спустя \n",
    "2 дня после передачи данных\n",
    "\n",
    "active_studs.csv – файл с информацией о пользователях, которые зашли на платформу \n",
    "в дни проведения эксперимента. \n",
    "\n",
    "checks.csv – файл с информацией об оплатах пользователей в дни проведения эксперимента. "
   ]
  },
  {
   "cell_type": "markdown",
   "id": "a3eacf1b-a429-4cad-af6f-ca50fc06ca46",
   "metadata": {
    "jupyter": {
     "source_hidden": true
    },
    "tags": []
   },
   "source": [
    "1.3 Вопросы\n",
    "\n",
    "Предлагаем вам ответить на следующие вопросы:\n",
    "\n",
    "На какие метрики вы смотрите в ходе анализа и почему?\n",
    "Имеются ли различия в показателях и с чем они могут быть связаны?\n",
    "Являются ли эти различия статистически значимыми?\n",
    "Стоит ли запускать новую механику на всех пользователей?\n",
    "Данный список вопросов не является обязательным, и вы можете при своём ответе \n",
    "опираться на собственный план.\n",
    "\n",
    "1.4 Требования к ответу\n",
    "\n",
    "При выполнении тестового задания необходимо использовать язык программирования Python. \n",
    "В файле обязательно должны быть комментарии к тем действиям, которые вы выполняете с данными. \n",
    "Файл должен представлять собой законченный отчёт с выводами, сделанными в ходе исследования."
   ]
  },
  {
   "cell_type": "markdown",
   "id": "8c445a3a-f948-4fe3-b9b1-0181f031548e",
   "metadata": {},
   "source": [
    "<span style=\"font-size: 18px;\">В результате проведения A/B–эксперимента были получены данные о фактах активности и совершения оплаты пользователей из контрольной и тестовой групп. \n",
    "Файлы размещены на Яндекс-диске, выгрузка для расчётов производится непосредственно с облака.</span>"
   ]
  },
  {
   "cell_type": "markdown",
   "id": "83334413-e664-49df-bc02-88ba20d6bff1",
   "metadata": {
    "tags": []
   },
   "source": [
    "### Выгрузка и предварительный анализ данных"
   ]
  },
  {
   "cell_type": "code",
   "execution_count": 1,
   "id": "017ef3da-03b5-4147-9571-cbba7dc44234",
   "metadata": {
    "collapsed": true,
    "jupyter": {
     "outputs_hidden": true
    },
    "tags": []
   },
   "outputs": [
    {
     "name": "stderr",
     "output_type": "stream",
     "text": [
      "/opt/conda/lib/python3.8/site-packages/outdated/utils.py:14: OutdatedPackageWarning: The package pingouin is out of date. Your version is 0.5.3, the latest is 0.5.5.\n",
      "Set the environment variable OUTDATED_IGNORE=1 to disable these warnings.\n",
      "  return warn(\n"
     ]
    }
   ],
   "source": [
    "import pandas as pd\n",
    "import pingouin as pg\n",
    "import scipy.stats as st\n",
    "import requests\n",
    "from urllib.parse import urlencode\n",
    "import seaborn as sns\n",
    "import matplotlib.pyplot  as plt"
   ]
  },
  {
   "cell_type": "code",
   "execution_count": 2,
   "id": "710fbc62-465d-40d0-80b7-853b9a839935",
   "metadata": {
    "tags": []
   },
   "outputs": [],
   "source": [
    "# Сохраняем базовую ссылку на Яндекс-диск в переменную.Будет использоваться для загрузки всех файлов.\n",
    "base_url = 'https://cloud-api.yandex.net/v1/disk/public/resources/download?'"
   ]
  },
  {
   "cell_type": "code",
   "execution_count": 3,
   "id": "c538d849-609f-4c76-8b42-cf62aa16de46",
   "metadata": {
    "collapsed": true,
    "jupyter": {
     "outputs_hidden": true
    },
    "tags": []
   },
   "outputs": [
    {
     "data": {
      "text/html": [
       "<div>\n",
       "<style scoped>\n",
       "    .dataframe tbody tr th:only-of-type {\n",
       "        vertical-align: middle;\n",
       "    }\n",
       "\n",
       "    .dataframe tbody tr th {\n",
       "        vertical-align: top;\n",
       "    }\n",
       "\n",
       "    .dataframe thead th {\n",
       "        text-align: right;\n",
       "    }\n",
       "</style>\n",
       "<table border=\"1\" class=\"dataframe\">\n",
       "  <thead>\n",
       "    <tr style=\"text-align: right;\">\n",
       "      <th></th>\n",
       "      <th>id</th>\n",
       "      <th>grp</th>\n",
       "    </tr>\n",
       "  </thead>\n",
       "  <tbody>\n",
       "    <tr>\n",
       "      <th>0</th>\n",
       "      <td>1489</td>\n",
       "      <td>B</td>\n",
       "    </tr>\n",
       "    <tr>\n",
       "      <th>1</th>\n",
       "      <td>1627</td>\n",
       "      <td>A</td>\n",
       "    </tr>\n",
       "    <tr>\n",
       "      <th>2</th>\n",
       "      <td>1768</td>\n",
       "      <td>B</td>\n",
       "    </tr>\n",
       "    <tr>\n",
       "      <th>3</th>\n",
       "      <td>1783</td>\n",
       "      <td>B</td>\n",
       "    </tr>\n",
       "    <tr>\n",
       "      <th>4</th>\n",
       "      <td>1794</td>\n",
       "      <td>A</td>\n",
       "    </tr>\n",
       "  </tbody>\n",
       "</table>\n",
       "</div>"
      ],
      "text/plain": [
       "     id grp\n",
       "0  1489   B\n",
       "1  1627   A\n",
       "2  1768   B\n",
       "3  1783   B\n",
       "4  1794   A"
      ]
     },
     "execution_count": 3,
     "metadata": {},
     "output_type": "execute_result"
    }
   ],
   "source": [
    "# Загрузка 'groups.csv' – файл с информацией о принадлежности пользователя к контрольной или \n",
    "# экспериментальной группе (А – контроль, B – целевая группа) \n",
    "\n",
    "# Сохраняем ссылку на файл на Яндекс-диске в переменную.\n",
    "public_key_groups = 'https://disk.yandex.ru/d/UhyYx41rTt3clQ'\n",
    "\n",
    "# Получаем загрузочную ссылку/ Подготовка ссылки на скачивание\n",
    "final_url_groups = base_url + urlencode(dict(public_key=public_key_groups))\n",
    "response_groups = requests.get(final_url_groups)  # запрос ссылки на скачивание\n",
    "download_url_groups = response_groups.json()['href']  # 'парсинг' ссылки на скачивание\n",
    "\n",
    "# Загружаем данные в DataFrame\n",
    "df_groups = pd.read_csv(download_url_groups, sep=';', comment='#' , encoding='cp1251')\n",
    "df_groups.head()"
   ]
  },
  {
   "cell_type": "code",
   "execution_count": 5,
   "id": "d9a79629-76e1-4146-88d3-f10d086c8482",
   "metadata": {
    "tags": []
   },
   "outputs": [
    {
     "name": "stdout",
     "output_type": "stream",
     "text": [
      "<class 'pandas.core.frame.DataFrame'>\n",
      "RangeIndex: 74484 entries, 0 to 74483\n",
      "Data columns (total 2 columns):\n",
      " #   Column  Non-Null Count  Dtype \n",
      "---  ------  --------------  ----- \n",
      " 0   id      74484 non-null  int64 \n",
      " 1   grp     74484 non-null  object\n",
      "dtypes: int64(1), object(1)\n",
      "memory usage: 1.1+ MB\n"
     ]
    }
   ],
   "source": [
    "df_groups.info() "
   ]
  },
  {
   "cell_type": "code",
   "execution_count": 6,
   "id": "c6a70569-fa17-4f45-afdf-964ace1a7a75",
   "metadata": {},
   "outputs": [
    {
     "data": {
      "text/plain": [
       "74484"
      ]
     },
     "execution_count": 6,
     "metadata": {},
     "output_type": "execute_result"
    }
   ],
   "source": [
    "df_groups.id.nunique()  # все id в первом списке уникальны"
   ]
  },
  {
   "cell_type": "markdown",
   "id": "9ccaa3ae-3a1e-4ae1-8a69-fa19128d5bf9",
   "metadata": {},
   "source": [
    "<span style=\"font-size: 18px;\">Всего в исходном файле(groups.csv) с распределением по группам находится 74 484 пользователя.</span>"
   ]
  },
  {
   "cell_type": "code",
   "execution_count": 4,
   "id": "5748f267-a5e1-409d-a22d-682122bac6fa",
   "metadata": {
    "collapsed": true,
    "jupyter": {
     "outputs_hidden": true
    },
    "tags": []
   },
   "outputs": [
    {
     "data": {
      "text/html": [
       "<div>\n",
       "<style scoped>\n",
       "    .dataframe tbody tr th:only-of-type {\n",
       "        vertical-align: middle;\n",
       "    }\n",
       "\n",
       "    .dataframe tbody tr th {\n",
       "        vertical-align: top;\n",
       "    }\n",
       "\n",
       "    .dataframe thead th {\n",
       "        text-align: right;\n",
       "    }\n",
       "</style>\n",
       "<table border=\"1\" class=\"dataframe\">\n",
       "  <thead>\n",
       "    <tr style=\"text-align: right;\">\n",
       "      <th></th>\n",
       "      <th>id</th>\n",
       "      <th>grp</th>\n",
       "    </tr>\n",
       "  </thead>\n",
       "  <tbody>\n",
       "    <tr>\n",
       "      <th>0</th>\n",
       "      <td>5694584</td>\n",
       "      <td>B</td>\n",
       "    </tr>\n",
       "    <tr>\n",
       "      <th>1</th>\n",
       "      <td>5694830</td>\n",
       "      <td>B</td>\n",
       "    </tr>\n",
       "    <tr>\n",
       "      <th>2</th>\n",
       "      <td>5695057</td>\n",
       "      <td>B</td>\n",
       "    </tr>\n",
       "    <tr>\n",
       "      <th>3</th>\n",
       "      <td>5698872</td>\n",
       "      <td>B</td>\n",
       "    </tr>\n",
       "    <tr>\n",
       "      <th>4</th>\n",
       "      <td>5699067</td>\n",
       "      <td>B</td>\n",
       "    </tr>\n",
       "  </tbody>\n",
       "</table>\n",
       "</div>"
      ],
      "text/plain": [
       "        id grp\n",
       "0  5694584   B\n",
       "1  5694830   B\n",
       "2  5695057   B\n",
       "3  5698872   B\n",
       "4  5699067   B"
      ]
     },
     "execution_count": 4,
     "metadata": {},
     "output_type": "execute_result"
    }
   ],
   "source": [
    "# Загрузка 'groups_add.csv' – дополнительный файл с пользователями, который вам прислали \n",
    "# спустя 2 дня после передачи данных \n",
    "\n",
    "# Сохраняем ссылку на файл на Яндекс-диске в переменную.\n",
    "public_key_groups_add = 'https://disk.yandex.ru/d/5Kxrz02m3IBUwQ'\n",
    "\n",
    "# Получаем загрузочную ссылку/ Подготовка ссылки на скачивание\n",
    "final_url_groups_add = base_url + urlencode(dict(public_key=public_key_groups_add))\n",
    "response_groups_add = requests.get(final_url_groups_add)  # запрос ссылки на скачивание\n",
    "download_url_groups_add = response_groups_add.json()['href']  # 'парсинг' ссылки на скачивание\n",
    "\n",
    "# Загрузка данных в DataFrame\n",
    "df_groups_add = pd.read_csv(download_url_groups_add, sep=',', comment='#' , encoding='cp1251')\n",
    "df_groups_add.head()"
   ]
  },
  {
   "cell_type": "code",
   "execution_count": 5,
   "id": "e16b56df-729b-4ce3-860d-93019f0dc3b1",
   "metadata": {},
   "outputs": [
    {
     "name": "stdout",
     "output_type": "stream",
     "text": [
      "<class 'pandas.core.frame.DataFrame'>\n",
      "RangeIndex: 92 entries, 0 to 91\n",
      "Data columns (total 2 columns):\n",
      " #   Column  Non-Null Count  Dtype \n",
      "---  ------  --------------  ----- \n",
      " 0   id      92 non-null     int64 \n",
      " 1   grp     92 non-null     object\n",
      "dtypes: int64(1), object(1)\n",
      "memory usage: 1.6+ KB\n"
     ]
    }
   ],
   "source": [
    "df_groups_add.info() \n",
    "# Количество  студентов во втором списке значительно меньше, вероятно, это дополнение списка."
   ]
  },
  {
   "cell_type": "code",
   "execution_count": 9,
   "id": "5d25d44e-9600-4496-902c-201577ca2215",
   "metadata": {},
   "outputs": [
    {
     "data": {
      "text/plain": [
       "92"
      ]
     },
     "execution_count": 9,
     "metadata": {},
     "output_type": "execute_result"
    }
   ],
   "source": [
    "df_groups_add.id.nunique() # все id во втором списке уникальны"
   ]
  },
  {
   "cell_type": "code",
   "execution_count": 5,
   "id": "2f142f6e-974a-4e7f-8619-53b06915aacf",
   "metadata": {},
   "outputs": [
    {
     "data": {
      "text/plain": [
       "False    92\n",
       "Name: id, dtype: int64"
      ]
     },
     "execution_count": 5,
     "metadata": {},
     "output_type": "execute_result"
    }
   ],
   "source": [
    "# Создадим список id студентов из первого файла.\n",
    "id_first_list = df_groups.id.to_list()\n",
    "# Проверим по id, есть ли студенты из второго списка в первом.\n",
    "df_groups_add.id.isin(id_first_list) \\\n",
    "                .value_counts()  "
   ]
  },
  {
   "cell_type": "markdown",
   "id": "f9df67cb-f365-43d0-b5ba-3ed3e0bfd6f0",
   "metadata": {},
   "source": [
    "<span style=\"font-size: 18px;\">\n",
    "В дополнительном файле (groups_add.csv) содержатся id новых 92 пользователей-участников эксперимента.\n",
    "Повторений id из второго списка в составе первого не обнаружено, необходимо объединить данные в общий сводный файл для дальнейшего анализа.\n",
    "</span>"
   ]
  },
  {
   "cell_type": "code",
   "execution_count": 6,
   "id": "927dc017-d8af-459f-a655-85750349662b",
   "metadata": {
    "tags": []
   },
   "outputs": [
    {
     "name": "stdout",
     "output_type": "stream",
     "text": [
      "<class 'pandas.core.frame.DataFrame'>\n",
      "RangeIndex: 74576 entries, 0 to 74575\n",
      "Data columns (total 2 columns):\n",
      " #   Column  Non-Null Count  Dtype \n",
      "---  ------  --------------  ----- \n",
      " 0   id      74576 non-null  int64 \n",
      " 1   grp     74576 non-null  object\n",
      "dtypes: int64(1), object(1)\n",
      "memory usage: 1.1+ MB\n"
     ]
    }
   ],
   "source": [
    "# Объединяем файлы df_groups и df_groups_add в общий сводный файл.\n",
    "df_groups_final = pd.concat([df_groups, df_groups_add], axis=0, ignore_index=True)\n",
    "df_groups_final.info()"
   ]
  },
  {
   "cell_type": "code",
   "execution_count": 12,
   "id": "db4c17d7-4651-4d6a-9297-17083586da86",
   "metadata": {
    "collapsed": true,
    "jupyter": {
     "outputs_hidden": true,
     "source_hidden": true
    },
    "tags": []
   },
   "outputs": [
    {
     "data": {
      "text/html": [
       "<div>\n",
       "<style scoped>\n",
       "    .dataframe tbody tr th:only-of-type {\n",
       "        vertical-align: middle;\n",
       "    }\n",
       "\n",
       "    .dataframe tbody tr th {\n",
       "        vertical-align: top;\n",
       "    }\n",
       "\n",
       "    .dataframe thead th {\n",
       "        text-align: right;\n",
       "    }\n",
       "</style>\n",
       "<table border=\"1\" class=\"dataframe\">\n",
       "  <thead>\n",
       "    <tr style=\"text-align: right;\">\n",
       "      <th></th>\n",
       "      <th>id</th>\n",
       "      <th>grp</th>\n",
       "    </tr>\n",
       "  </thead>\n",
       "  <tbody>\n",
       "    <tr>\n",
       "      <th>0</th>\n",
       "      <td>1489</td>\n",
       "      <td>B</td>\n",
       "    </tr>\n",
       "    <tr>\n",
       "      <th>1</th>\n",
       "      <td>1627</td>\n",
       "      <td>A</td>\n",
       "    </tr>\n",
       "    <tr>\n",
       "      <th>2</th>\n",
       "      <td>1768</td>\n",
       "      <td>B</td>\n",
       "    </tr>\n",
       "    <tr>\n",
       "      <th>3</th>\n",
       "      <td>1783</td>\n",
       "      <td>B</td>\n",
       "    </tr>\n",
       "    <tr>\n",
       "      <th>4</th>\n",
       "      <td>1794</td>\n",
       "      <td>A</td>\n",
       "    </tr>\n",
       "  </tbody>\n",
       "</table>\n",
       "</div>"
      ],
      "text/plain": [
       "     id grp\n",
       "0  1489   B\n",
       "1  1627   A\n",
       "2  1768   B\n",
       "3  1783   B\n",
       "4  1794   A"
      ]
     },
     "execution_count": 12,
     "metadata": {},
     "output_type": "execute_result"
    }
   ],
   "source": [
    "df_groups_final.head()"
   ]
  },
  {
   "cell_type": "code",
   "execution_count": 9,
   "id": "23cc56fb-bddc-4f9f-8802-8977c630ff49",
   "metadata": {},
   "outputs": [
    {
     "data": {
      "text/html": [
       "<div>\n",
       "<style scoped>\n",
       "    .dataframe tbody tr th:only-of-type {\n",
       "        vertical-align: middle;\n",
       "    }\n",
       "\n",
       "    .dataframe tbody tr th {\n",
       "        vertical-align: top;\n",
       "    }\n",
       "\n",
       "    .dataframe thead th {\n",
       "        text-align: right;\n",
       "    }\n",
       "</style>\n",
       "<table border=\"1\" class=\"dataframe\">\n",
       "  <thead>\n",
       "    <tr style=\"text-align: right;\">\n",
       "      <th></th>\n",
       "      <th>id</th>\n",
       "    </tr>\n",
       "    <tr>\n",
       "      <th>grp</th>\n",
       "      <th></th>\n",
       "    </tr>\n",
       "  </thead>\n",
       "  <tbody>\n",
       "    <tr>\n",
       "      <th>A</th>\n",
       "      <td>14693</td>\n",
       "    </tr>\n",
       "    <tr>\n",
       "      <th>B</th>\n",
       "      <td>59883</td>\n",
       "    </tr>\n",
       "  </tbody>\n",
       "</table>\n",
       "</div>"
      ],
      "text/plain": [
       "        id\n",
       "grp       \n",
       "A    14693\n",
       "B    59883"
      ]
     },
     "execution_count": 9,
     "metadata": {},
     "output_type": "execute_result"
    }
   ],
   "source": [
    "# Считаем количество участников в контрольной и тестовой группах.\n",
    "df_groups_final.groupby('grp').count()"
   ]
  },
  {
   "cell_type": "markdown",
   "id": "39f96215-4ad3-440e-ad17-8aeee98c5f79",
   "metadata": {},
   "source": [
    "<span style=\"font-size: 18px;\">После объединения списков участников эксперимента всего получаем 74 576 пользователей, из них в контрольной группе 14 693 и 59 883 пользователей в тестовой группе. </span>\n",
    "    \n",
    "<span style=\"font-size: 18px;\">Распределение пользователей по группам - неравномерное. Возможно, такое распределение обусловлено тем, что на равных выборках было бы сложно зафиксировать заметную разницу между выборками. Такое решение могло быть результатом предыдущих экспериментов.</span>"
   ]
  },
  {
   "cell_type": "code",
   "execution_count": 7,
   "id": "0f90f779-43ce-4f66-835f-fde8dbabc9af",
   "metadata": {
    "collapsed": true,
    "jupyter": {
     "outputs_hidden": true
    },
    "tags": []
   },
   "outputs": [
    {
     "data": {
      "text/html": [
       "<div>\n",
       "<style scoped>\n",
       "    .dataframe tbody tr th:only-of-type {\n",
       "        vertical-align: middle;\n",
       "    }\n",
       "\n",
       "    .dataframe tbody tr th {\n",
       "        vertical-align: top;\n",
       "    }\n",
       "\n",
       "    .dataframe thead th {\n",
       "        text-align: right;\n",
       "    }\n",
       "</style>\n",
       "<table border=\"1\" class=\"dataframe\">\n",
       "  <thead>\n",
       "    <tr style=\"text-align: right;\">\n",
       "      <th></th>\n",
       "      <th>student_id</th>\n",
       "    </tr>\n",
       "  </thead>\n",
       "  <tbody>\n",
       "    <tr>\n",
       "      <th>0</th>\n",
       "      <td>581585</td>\n",
       "    </tr>\n",
       "    <tr>\n",
       "      <th>1</th>\n",
       "      <td>5723133</td>\n",
       "    </tr>\n",
       "    <tr>\n",
       "      <th>2</th>\n",
       "      <td>3276743</td>\n",
       "    </tr>\n",
       "    <tr>\n",
       "      <th>3</th>\n",
       "      <td>4238589</td>\n",
       "    </tr>\n",
       "    <tr>\n",
       "      <th>4</th>\n",
       "      <td>4475369</td>\n",
       "    </tr>\n",
       "  </tbody>\n",
       "</table>\n",
       "</div>"
      ],
      "text/plain": [
       "   student_id\n",
       "0      581585\n",
       "1     5723133\n",
       "2     3276743\n",
       "3     4238589\n",
       "4     4475369"
      ]
     },
     "execution_count": 7,
     "metadata": {},
     "output_type": "execute_result"
    }
   ],
   "source": [
    "# Загрузка 'active_studs.csv' – файл с информацией о пользователях, которые зашли на \n",
    "# платформу в дни проведения эксперимента.\n",
    "\n",
    "# Сохраняем ссылку на файл на Яндекс-диске в переменную.\n",
    "public_key_active_studs = 'https://disk.yandex.ru/d/Tbs44Bm6H_FwFQ'  # ссылка на файл\n",
    "\n",
    "# Получаем загрузочную ссылку/ Подготовка ссылки на скачивание\n",
    "final_url_active_studs = base_url + urlencode(dict(public_key=public_key_active_studs))\n",
    "response_active_studs = requests.get(final_url_active_studs)  # запрос ссылки на скачивание\n",
    "download_url_active_studs = response_active_studs.json()['href']  # 'парсинг' ссылки на скачивание\n",
    "\n",
    "# Загрузка данных в DataFrame\n",
    "df_active_studs = pd.read_csv(download_url_active_studs, sep=';', comment='#' , encoding='cp1251')\n",
    "df_active_studs.head()"
   ]
  },
  {
   "cell_type": "code",
   "execution_count": 15,
   "id": "ab6c18bd-a399-41aa-aa89-08a5cdce8164",
   "metadata": {
    "tags": []
   },
   "outputs": [
    {
     "name": "stdout",
     "output_type": "stream",
     "text": [
      "<class 'pandas.core.frame.DataFrame'>\n",
      "RangeIndex: 8341 entries, 0 to 8340\n",
      "Data columns (total 1 columns):\n",
      " #   Column      Non-Null Count  Dtype\n",
      "---  ------      --------------  -----\n",
      " 0   student_id  8341 non-null   int64\n",
      "dtypes: int64(1)\n",
      "memory usage: 65.3 KB\n"
     ]
    }
   ],
   "source": [
    "df_active_studs.info()"
   ]
  },
  {
   "cell_type": "code",
   "execution_count": 16,
   "id": "19bec00b-3cac-4aeb-8594-013428823040",
   "metadata": {},
   "outputs": [
    {
     "data": {
      "text/plain": [
       "student_id    8341\n",
       "dtype: int64"
      ]
     },
     "execution_count": 16,
     "metadata": {},
     "output_type": "execute_result"
    }
   ],
   "source": [
    "df_active_studs.nunique()"
   ]
  },
  {
   "cell_type": "code",
   "execution_count": 8,
   "id": "de94a95e-ab30-4949-9930-13ea8d262a17",
   "metadata": {},
   "outputs": [
    {
     "data": {
      "text/plain": [
       "True    8341\n",
       "Name: student_id, dtype: int64"
      ]
     },
     "execution_count": 8,
     "metadata": {},
     "output_type": "execute_result"
    }
   ],
   "source": [
    "# Создадим итоговый список id студентов.\n",
    "id_groups_final = df_groups_final.id.to_list() \n",
    "# Проверим по id, все ли 'активные' студенты есть в списке.\n",
    "df_active_studs.student_id.isin(id_groups_final) \\\n",
    "                          .value_counts()  "
   ]
  },
  {
   "cell_type": "markdown",
   "id": "065894a7-abae-4403-9bb4-5ed7b7fb985d",
   "metadata": {},
   "source": [
    "<span style=\"font-size: 18px;\">В дни проведения эксперимента на платформу зашли 8 341 пользователей. Все пользователи есть в итоговом списке с принадлежностью к группе. Также данные не дублируются, все student_id уникальные.</span>"
   ]
  },
  {
   "cell_type": "code",
   "execution_count": 9,
   "id": "fc7148d9-03c9-43d6-be0c-8804756c02d3",
   "metadata": {},
   "outputs": [],
   "source": [
    "# Переименуем столбец id для объединения с другими таблицами и проведения дальнейших расчётов.\n",
    "df_groups_final = df_groups_final.rename(columns = {'id' : 'student_id'})"
   ]
  },
  {
   "cell_type": "code",
   "execution_count": 10,
   "id": "48115ce3-913f-45df-8026-7ba1d9c06ddb",
   "metadata": {
    "collapsed": true,
    "jupyter": {
     "outputs_hidden": true
    },
    "tags": []
   },
   "outputs": [
    {
     "data": {
      "text/html": [
       "<div>\n",
       "<style scoped>\n",
       "    .dataframe tbody tr th:only-of-type {\n",
       "        vertical-align: middle;\n",
       "    }\n",
       "\n",
       "    .dataframe tbody tr th {\n",
       "        vertical-align: top;\n",
       "    }\n",
       "\n",
       "    .dataframe thead th {\n",
       "        text-align: right;\n",
       "    }\n",
       "</style>\n",
       "<table border=\"1\" class=\"dataframe\">\n",
       "  <thead>\n",
       "    <tr style=\"text-align: right;\">\n",
       "      <th></th>\n",
       "      <th>student_id</th>\n",
       "      <th>grp</th>\n",
       "      <th>active</th>\n",
       "    </tr>\n",
       "  </thead>\n",
       "  <tbody>\n",
       "    <tr>\n",
       "      <th>0</th>\n",
       "      <td>1489</td>\n",
       "      <td>B</td>\n",
       "      <td>0</td>\n",
       "    </tr>\n",
       "    <tr>\n",
       "      <th>1</th>\n",
       "      <td>1627</td>\n",
       "      <td>A</td>\n",
       "      <td>1</td>\n",
       "    </tr>\n",
       "    <tr>\n",
       "      <th>2</th>\n",
       "      <td>1768</td>\n",
       "      <td>B</td>\n",
       "      <td>0</td>\n",
       "    </tr>\n",
       "    <tr>\n",
       "      <th>3</th>\n",
       "      <td>1783</td>\n",
       "      <td>B</td>\n",
       "      <td>0</td>\n",
       "    </tr>\n",
       "    <tr>\n",
       "      <th>4</th>\n",
       "      <td>1794</td>\n",
       "      <td>A</td>\n",
       "      <td>0</td>\n",
       "    </tr>\n",
       "  </tbody>\n",
       "</table>\n",
       "</div>"
      ],
      "text/plain": [
       "   student_id grp  active\n",
       "0        1489   B       0\n",
       "1        1627   A       1\n",
       "2        1768   B       0\n",
       "3        1783   B       0\n",
       "4        1794   A       0"
      ]
     },
     "execution_count": 10,
     "metadata": {},
     "output_type": "execute_result"
    }
   ],
   "source": [
    "# Добавим столбец-маркер 'активности' для студентов, которые заходили на платформу в дни проведения эксперимента.\n",
    "import numpy as np\n",
    "id_active = df_active_studs.student_id.to_list() # создадим список id 'активных' студентов\n",
    "df_groups_final['active'] = np.where(df_groups_final.student_id.isin(id_active) == True, 1, 0)\n",
    "df_groups_final.head()"
   ]
  },
  {
   "cell_type": "code",
   "execution_count": 11,
   "id": "cfb98d42-fde8-4fec-80ec-a7baa06f6e29",
   "metadata": {
    "collapsed": true,
    "jupyter": {
     "outputs_hidden": true
    },
    "tags": []
   },
   "outputs": [
    {
     "data": {
      "text/html": [
       "<div>\n",
       "<style scoped>\n",
       "    .dataframe tbody tr th:only-of-type {\n",
       "        vertical-align: middle;\n",
       "    }\n",
       "\n",
       "    .dataframe tbody tr th {\n",
       "        vertical-align: top;\n",
       "    }\n",
       "\n",
       "    .dataframe thead th {\n",
       "        text-align: right;\n",
       "    }\n",
       "</style>\n",
       "<table border=\"1\" class=\"dataframe\">\n",
       "  <thead>\n",
       "    <tr style=\"text-align: right;\">\n",
       "      <th></th>\n",
       "      <th>student_id</th>\n",
       "      <th>rev</th>\n",
       "    </tr>\n",
       "  </thead>\n",
       "  <tbody>\n",
       "    <tr>\n",
       "      <th>0</th>\n",
       "      <td>1627</td>\n",
       "      <td>990.0</td>\n",
       "    </tr>\n",
       "    <tr>\n",
       "      <th>1</th>\n",
       "      <td>3185</td>\n",
       "      <td>690.0</td>\n",
       "    </tr>\n",
       "    <tr>\n",
       "      <th>2</th>\n",
       "      <td>25973</td>\n",
       "      <td>690.0</td>\n",
       "    </tr>\n",
       "    <tr>\n",
       "      <th>3</th>\n",
       "      <td>26280</td>\n",
       "      <td>690.0</td>\n",
       "    </tr>\n",
       "    <tr>\n",
       "      <th>4</th>\n",
       "      <td>100300</td>\n",
       "      <td>990.0</td>\n",
       "    </tr>\n",
       "  </tbody>\n",
       "</table>\n",
       "</div>"
      ],
      "text/plain": [
       "   student_id    rev\n",
       "0        1627  990.0\n",
       "1        3185  690.0\n",
       "2       25973  690.0\n",
       "3       26280  690.0\n",
       "4      100300  990.0"
      ]
     },
     "execution_count": 11,
     "metadata": {},
     "output_type": "execute_result"
    }
   ],
   "source": [
    "# Загрузка 'checks.csv' – файл с информацией об оплатах пользователей в дни проведения эксперимента.\n",
    "\n",
    "# Сохраняем ссылку на файл на Яндекс-диске в переменную.\n",
    "public_key_checks = 'https://disk.yandex.ru/d/pH1q-VqcxXjsVA'  # ссылка на файл\n",
    "\n",
    "# Получаем загрузочную ссылку/ Подготовка ссылки на скачивание\n",
    "final_url_checks = base_url + urlencode(dict(public_key=public_key_checks))\n",
    "response_checks = requests.get(final_url_checks)  # запрос ссылки на скачивание\n",
    "download_url_checks = response_checks.json()['href']  # 'парсинг' ссылки на скачивание\n",
    "\n",
    "# Загрузка данных в DataFrame\n",
    "df_checks = pd.read_csv(download_url_checks, sep=';', comment='#' , encoding='cp1251')\n",
    "df_checks.head()"
   ]
  },
  {
   "cell_type": "code",
   "execution_count": 21,
   "id": "4ea9bbe7-558d-4815-89be-74dc877d1bc0",
   "metadata": {
    "tags": []
   },
   "outputs": [
    {
     "name": "stdout",
     "output_type": "stream",
     "text": [
      "<class 'pandas.core.frame.DataFrame'>\n",
      "RangeIndex: 541 entries, 0 to 540\n",
      "Data columns (total 2 columns):\n",
      " #   Column      Non-Null Count  Dtype  \n",
      "---  ------      --------------  -----  \n",
      " 0   student_id  541 non-null    int64  \n",
      " 1   rev         541 non-null    float64\n",
      "dtypes: float64(1), int64(1)\n",
      "memory usage: 8.6 KB\n"
     ]
    }
   ],
   "source": [
    "df_checks.info()"
   ]
  },
  {
   "cell_type": "code",
   "execution_count": 22,
   "id": "9c0c8e40-3e98-4d21-8a77-ab4ff829ab30",
   "metadata": {},
   "outputs": [
    {
     "data": {
      "text/plain": [
       "541"
      ]
     },
     "execution_count": 22,
     "metadata": {},
     "output_type": "execute_result"
    }
   ],
   "source": [
    "df_checks.student_id.nunique()"
   ]
  },
  {
   "cell_type": "markdown",
   "id": "cd2154d3-9de2-4f49-8e2b-b04999b25d6b",
   "metadata": {},
   "source": [
    "<span style=\"font-size: 18px;\">Всего за период проведения эксперимента была произведена 541 оплата. Все оплаты были разовыми, без повторных покупок, либо в файле представлены уже агрегированные данные.</span>"
   ]
  },
  {
   "cell_type": "code",
   "execution_count": 13,
   "id": "e7653bfb-8c76-4346-83e0-2329bbe7c9ae",
   "metadata": {},
   "outputs": [
    {
     "data": {
      "text/plain": [
       "True    541\n",
       "Name: student_id, dtype: int64"
      ]
     },
     "execution_count": 13,
     "metadata": {},
     "output_type": "execute_result"
    }
   ],
   "source": [
    "# Проверим по student_id, все ли платящие студенты - участники эксперимента.\n",
    "df_checks.student_id.isin(id_groups_final) \\\n",
    "                    .value_counts()  "
   ]
  },
  {
   "cell_type": "markdown",
   "id": "9984b6d7-4eaa-4406-a00b-75a151a831a4",
   "metadata": {},
   "source": [
    "<span style=\"font-size: 18px;\">Часть студентов только совершили оплату, но не заходили на платфому с целью обучения. Также среди 'активных' студентов не все совершили оплату, а только часть из них.\n",
    "Все платящие студенты присутствуют в списке участников эксперимента.</span>"
   ]
  },
  {
   "cell_type": "code",
   "execution_count": 12,
   "id": "ae85d125-06a4-4e3c-85ae-ffc160a0321b",
   "metadata": {
    "tags": []
   },
   "outputs": [
    {
     "data": {
      "text/html": [
       "<div>\n",
       "<style scoped>\n",
       "    .dataframe tbody tr th:only-of-type {\n",
       "        vertical-align: middle;\n",
       "    }\n",
       "\n",
       "    .dataframe tbody tr th {\n",
       "        vertical-align: top;\n",
       "    }\n",
       "\n",
       "    .dataframe thead th {\n",
       "        text-align: right;\n",
       "    }\n",
       "</style>\n",
       "<table border=\"1\" class=\"dataframe\">\n",
       "  <thead>\n",
       "    <tr style=\"text-align: right;\">\n",
       "      <th></th>\n",
       "      <th>student_id</th>\n",
       "      <th>grp</th>\n",
       "      <th>active</th>\n",
       "      <th>rev</th>\n",
       "    </tr>\n",
       "  </thead>\n",
       "  <tbody>\n",
       "    <tr>\n",
       "      <th>0</th>\n",
       "      <td>1489</td>\n",
       "      <td>B</td>\n",
       "      <td>0</td>\n",
       "      <td>NaN</td>\n",
       "    </tr>\n",
       "    <tr>\n",
       "      <th>1</th>\n",
       "      <td>1627</td>\n",
       "      <td>A</td>\n",
       "      <td>1</td>\n",
       "      <td>990.0</td>\n",
       "    </tr>\n",
       "    <tr>\n",
       "      <th>2</th>\n",
       "      <td>1768</td>\n",
       "      <td>B</td>\n",
       "      <td>0</td>\n",
       "      <td>NaN</td>\n",
       "    </tr>\n",
       "    <tr>\n",
       "      <th>3</th>\n",
       "      <td>1783</td>\n",
       "      <td>B</td>\n",
       "      <td>0</td>\n",
       "      <td>NaN</td>\n",
       "    </tr>\n",
       "    <tr>\n",
       "      <th>4</th>\n",
       "      <td>1794</td>\n",
       "      <td>A</td>\n",
       "      <td>0</td>\n",
       "      <td>NaN</td>\n",
       "    </tr>\n",
       "  </tbody>\n",
       "</table>\n",
       "</div>"
      ],
      "text/plain": [
       "   student_id grp  active    rev\n",
       "0        1489   B       0    NaN\n",
       "1        1627   A       1  990.0\n",
       "2        1768   B       0    NaN\n",
       "3        1783   B       0    NaN\n",
       "4        1794   A       0    NaN"
      ]
     },
     "execution_count": 12,
     "metadata": {},
     "output_type": "execute_result"
    }
   ],
   "source": [
    "df_groups_checks = pd.merge(df_groups_final, df_checks, on = 'student_id', how = 'left')\n",
    "df_groups_checks.head()"
   ]
  },
  {
   "cell_type": "code",
   "execution_count": 31,
   "id": "db0ddaf8-74d4-4aa7-af3b-ff9576cc54e2",
   "metadata": {
    "tags": []
   },
   "outputs": [
    {
     "name": "stdout",
     "output_type": "stream",
     "text": [
      "<class 'pandas.core.frame.DataFrame'>\n",
      "Int64Index: 74576 entries, 0 to 74575\n",
      "Data columns (total 4 columns):\n",
      " #   Column      Non-Null Count  Dtype  \n",
      "---  ------      --------------  -----  \n",
      " 0   student_id  74576 non-null  int64  \n",
      " 1   grp         74576 non-null  object \n",
      " 2   active      74576 non-null  int64  \n",
      " 3   rev         541 non-null    float64\n",
      "dtypes: float64(1), int64(2), object(1)\n",
      "memory usage: 2.8+ MB\n"
     ]
    }
   ],
   "source": [
    "df_groups_checks.info()"
   ]
  },
  {
   "cell_type": "markdown",
   "id": "b51d9c84-fe95-4a42-83c5-cbfd3f778693",
   "metadata": {},
   "source": [
    "### Метрики и продуктовый анализ"
   ]
  },
  {
   "cell_type": "code",
   "execution_count": 13,
   "id": "c370b1d1-cf29-4192-9530-45b1482d451b",
   "metadata": {
    "tags": []
   },
   "outputs": [],
   "source": [
    "# посчитаем метрики по имеющимся данным\n",
    "metrics = df_groups_checks.groupby('grp') \\\n",
    "                          .agg(\n",
    "                          user_cnt = ('student_id', 'count'),\n",
    "                          active_cnt = ('active', 'sum'),\n",
    "                          paying_cnt = ('rev', 'count'),\n",
    "                          revenue = ('rev', 'sum')\n",
    "                          )"
   ]
  },
  {
   "cell_type": "code",
   "execution_count": 14,
   "id": "467ebdd5-7bc8-4acc-9ba0-a5a60bf74589",
   "metadata": {
    "tags": []
   },
   "outputs": [],
   "source": [
    "paying_active = df_groups_checks.query(\"active == 1\") \\\n",
    "                                .groupby('grp') \\\n",
    "                                .rev.count()"
   ]
  },
  {
   "cell_type": "code",
   "execution_count": 15,
   "id": "3459b779-9609-4891-80f2-0e50b0072367",
   "metadata": {
    "tags": []
   },
   "outputs": [],
   "source": [
    "metrics = pd.merge(metrics, paying_active, how = 'left', on = 'grp') \\\n",
    "            .rename(columns = {'rev' : 'paying_active_cnt'})\n",
    "metrics['revenue'] = metrics.revenue.round()"
   ]
  },
  {
   "cell_type": "code",
   "execution_count": 16,
   "id": "c7729be4-bf1b-4054-b8c7-3930339626d6",
   "metadata": {},
   "outputs": [],
   "source": [
    "metrics['grp_%'] = round(metrics.user_cnt/ metrics.user_cnt.sum()*100)\n",
    "metrics['active_%'] = round(metrics.active_cnt / metrics.active_cnt.sum()*100)\n",
    "metrics['paying_%'] = round(metrics.paying_cnt / metrics.paying_cnt.sum()*100)\n",
    "metrics['arpu'] = round(metrics.revenue/ metrics.user_cnt)\n",
    "metrics['arppu'] = round(metrics.revenue/ metrics.paying_cnt)\n",
    "metrics['arpau'] = round(metrics.revenue/ metrics.active_cnt)\n",
    "metrics['cr_active'] = round(metrics.active_cnt / metrics.user_cnt.sum()*100)\n",
    "metrics['cr_paying'] = round(metrics.paying_cnt / metrics.user_cnt.sum()*100,2)\n",
    "metrics['cr_active_to_paying'] = round(metrics.paying_active_cnt / metrics.active_cnt.sum()*100,2)"
   ]
  },
  {
   "cell_type": "code",
   "execution_count": 17,
   "id": "b5ab42ef-efbc-41c1-88aa-10a6ec2f63bc",
   "metadata": {
    "tags": []
   },
   "outputs": [],
   "source": [
    "metrics_transposed = metrics.T\n",
    "metrics_transposed['diff'] = round(metrics_transposed['B'] - metrics_transposed['A'])\n",
    "metrics_transposed['diff_%'] = round((metrics_transposed['B'] - metrics_transposed['A'])/ metrics_transposed['A'] * 100)"
   ]
  },
  {
   "cell_type": "code",
   "execution_count": 18,
   "id": "85702cc8-b05c-4878-b823-87dbf2df88c0",
   "metadata": {},
   "outputs": [
    {
     "data": {
      "text/html": [
       "<div>\n",
       "<style scoped>\n",
       "    .dataframe tbody tr th:only-of-type {\n",
       "        vertical-align: middle;\n",
       "    }\n",
       "\n",
       "    .dataframe tbody tr th {\n",
       "        vertical-align: top;\n",
       "    }\n",
       "\n",
       "    .dataframe thead th {\n",
       "        text-align: right;\n",
       "    }\n",
       "</style>\n",
       "<table border=\"1\" class=\"dataframe\">\n",
       "  <thead>\n",
       "    <tr style=\"text-align: right;\">\n",
       "      <th>grp</th>\n",
       "      <th>A</th>\n",
       "      <th>B</th>\n",
       "      <th>diff</th>\n",
       "      <th>diff_%</th>\n",
       "    </tr>\n",
       "  </thead>\n",
       "  <tbody>\n",
       "    <tr>\n",
       "      <th>user_cnt</th>\n",
       "      <td>14693.00</td>\n",
       "      <td>59883.00</td>\n",
       "      <td>45190.0</td>\n",
       "      <td>308.0</td>\n",
       "    </tr>\n",
       "    <tr>\n",
       "      <th>active_cnt</th>\n",
       "      <td>1538.00</td>\n",
       "      <td>6803.00</td>\n",
       "      <td>5265.0</td>\n",
       "      <td>342.0</td>\n",
       "    </tr>\n",
       "    <tr>\n",
       "      <th>paying_cnt</th>\n",
       "      <td>107.00</td>\n",
       "      <td>434.00</td>\n",
       "      <td>327.0</td>\n",
       "      <td>306.0</td>\n",
       "    </tr>\n",
       "    <tr>\n",
       "      <th>revenue</th>\n",
       "      <td>92096.00</td>\n",
       "      <td>481230.00</td>\n",
       "      <td>389134.0</td>\n",
       "      <td>423.0</td>\n",
       "    </tr>\n",
       "    <tr>\n",
       "      <th>paying_active_cnt</th>\n",
       "      <td>78.00</td>\n",
       "      <td>314.00</td>\n",
       "      <td>236.0</td>\n",
       "      <td>303.0</td>\n",
       "    </tr>\n",
       "    <tr>\n",
       "      <th>grp_%</th>\n",
       "      <td>20.00</td>\n",
       "      <td>80.00</td>\n",
       "      <td>60.0</td>\n",
       "      <td>300.0</td>\n",
       "    </tr>\n",
       "    <tr>\n",
       "      <th>active_%</th>\n",
       "      <td>18.00</td>\n",
       "      <td>82.00</td>\n",
       "      <td>64.0</td>\n",
       "      <td>356.0</td>\n",
       "    </tr>\n",
       "    <tr>\n",
       "      <th>paying_%</th>\n",
       "      <td>20.00</td>\n",
       "      <td>80.00</td>\n",
       "      <td>60.0</td>\n",
       "      <td>300.0</td>\n",
       "    </tr>\n",
       "    <tr>\n",
       "      <th>arpu</th>\n",
       "      <td>6.00</td>\n",
       "      <td>8.00</td>\n",
       "      <td>2.0</td>\n",
       "      <td>33.0</td>\n",
       "    </tr>\n",
       "    <tr>\n",
       "      <th>arppu</th>\n",
       "      <td>861.00</td>\n",
       "      <td>1109.00</td>\n",
       "      <td>248.0</td>\n",
       "      <td>29.0</td>\n",
       "    </tr>\n",
       "    <tr>\n",
       "      <th>arpau</th>\n",
       "      <td>60.00</td>\n",
       "      <td>71.00</td>\n",
       "      <td>11.0</td>\n",
       "      <td>18.0</td>\n",
       "    </tr>\n",
       "    <tr>\n",
       "      <th>cr_active</th>\n",
       "      <td>2.00</td>\n",
       "      <td>9.00</td>\n",
       "      <td>7.0</td>\n",
       "      <td>350.0</td>\n",
       "    </tr>\n",
       "    <tr>\n",
       "      <th>cr_paying</th>\n",
       "      <td>0.14</td>\n",
       "      <td>0.58</td>\n",
       "      <td>0.0</td>\n",
       "      <td>314.0</td>\n",
       "    </tr>\n",
       "    <tr>\n",
       "      <th>cr_active_to_paying</th>\n",
       "      <td>0.94</td>\n",
       "      <td>3.76</td>\n",
       "      <td>3.0</td>\n",
       "      <td>300.0</td>\n",
       "    </tr>\n",
       "  </tbody>\n",
       "</table>\n",
       "</div>"
      ],
      "text/plain": [
       "grp                         A          B      diff  diff_%\n",
       "user_cnt             14693.00   59883.00   45190.0   308.0\n",
       "active_cnt            1538.00    6803.00    5265.0   342.0\n",
       "paying_cnt             107.00     434.00     327.0   306.0\n",
       "revenue              92096.00  481230.00  389134.0   423.0\n",
       "paying_active_cnt       78.00     314.00     236.0   303.0\n",
       "grp_%                   20.00      80.00      60.0   300.0\n",
       "active_%                18.00      82.00      64.0   356.0\n",
       "paying_%                20.00      80.00      60.0   300.0\n",
       "arpu                     6.00       8.00       2.0    33.0\n",
       "arppu                  861.00    1109.00     248.0    29.0\n",
       "arpau                   60.00      71.00      11.0    18.0\n",
       "cr_active                2.00       9.00       7.0   350.0\n",
       "cr_paying                0.14       0.58       0.0   314.0\n",
       "cr_active_to_paying      0.94       3.76       3.0   300.0"
      ]
     },
     "execution_count": 18,
     "metadata": {},
     "output_type": "execute_result"
    }
   ],
   "source": [
    "metrics_transposed"
   ]
  },
  {
   "cell_type": "markdown",
   "id": "a1ef5cb3-06b2-46a7-bef5-4deb62ba8d1e",
   "metadata": {},
   "source": [
    "<span style=\"font-size: 18px;\">\n",
    "Так как количество пользователей в тестовой группе в 4 раза превышает количество пользователей в контрольной группе, имеет смысл оценивать только относительные и средние значения между выборками.\n",
    "    \n",
    "Распределение активных и платящих пользователей между группами примерно соответствует распределению между группами. При этом заметна разница в конверсиях.В тестовой группе больше активных пользователей и, несмотря на низкий уровень конверсии в платящего пользователя в целом для обучающих курсов*, в тестовой группе конверсия в платящего пользователя составила 0,58% против 0,14% в контрольной, что больше в 4 раза или на 314%.\n",
    "    \n",
    "Это находит отражение в финансовых показателях. Так, средняя выручка на пользователя в разных разрезах в тестовой группе выше на 18-33%, больше всего в относительном выражении показали изменения средняя выручка на пользователя и средняя выручка на платящего пользователя. Средняя выручка на платящего пользователя более показательна и составила в 1109 у.е. в тестовой группе против 891 у.е. в контрольной. Можно предположить, что пользователи в тестовой группе чаще покупали более дорогие курсы/услуги или совершали больше покупок(если данные сводные).\n",
    "    \n",
    "*https://practicum.yandex.ru/blog/chto-takoe-konversiya-i-kak-ee-poschitat/#analiz-znachenii \n",
    "</span>"
   ]
  },
  {
   "cell_type": "markdown",
   "id": "4bc6d1f6-9f18-4c89-ae5d-9f53f9f60e87",
   "metadata": {},
   "source": [
    "### Оценка статистической значимости"
   ]
  },
  {
   "cell_type": "markdown",
   "id": "1f275bcd-bfdd-4d81-b952-10ae50a92063",
   "metadata": {},
   "source": [
    "<span style=\"font-size: 18px;\">\n",
    "При изменении механики оплаты услуг компания рассчитывает на рост количества платящих пользователей и среднего чека. В качестве целевой метрики определим среднюю выручку на пользователя и статистически проверим гипотезу о том, что в тестовой группе средняя выручка на пользователя действительно выше.</span>"
   ]
  },
  {
   "cell_type": "markdown",
   "id": "a7568547-6813-421c-809a-5c56c2132d4d",
   "metadata": {},
   "source": [
    "<span style=\"font-size: 18px;\"> \n",
    "H0: разница между средними значениями выручки на пользователя в тестовой и контрольной группах равна 0.\n",
    "    \n",
    "H1: разница между средними значениями выручки на пользователя в тестовой и контрольной группах не равна 0.\n",
    "\n",
    "Определим уровень значимости на уровне 0,05.\n",
    "</span>"
   ]
  },
  {
   "cell_type": "code",
   "execution_count": 19,
   "id": "21831a19-1c77-4cd9-961a-2156ac53433b",
   "metadata": {},
   "outputs": [
    {
     "name": "stdout",
     "output_type": "stream",
     "text": [
      "            mean  median         std  count\n",
      "grp                                        \n",
      "A     860.710280   690.0  815.893445    107\n",
      "B    1108.824893   935.0  741.834304    434\n"
     ]
    }
   ],
   "source": [
    "# Посчитаем среднее, медиану, стандартное отклонение по выручке, чтобы получить общее представление о данных.\n",
    "info = df_groups_checks.groupby('grp')['rev'].agg(['mean', 'median', 'std', 'count'])\n",
    "print(info)"
   ]
  },
  {
   "cell_type": "markdown",
   "id": "d92360f7-6b2a-4b52-941c-ded38b7360fc",
   "metadata": {},
   "source": [
    "<span style=\"font-size: 18px;\"> \n",
    "Кроме средней выручки на пользователя, наблюдается также и большее значение по медиане. То есть мы видим, что количественно более дорогих покупок стало больше. Разница не связана с выбросами в данных.\n",
    "</span>"
   ]
  },
  {
   "cell_type": "code",
   "execution_count": 20,
   "id": "05f34836-4b06-40f5-8bf8-a04f66348407",
   "metadata": {},
   "outputs": [
    {
     "data": {
      "image/png": "[encoded data removed]",
      "text/plain": [
       "<Figure size 1152x576 with 1 Axes>"
      ]
     },
     "metadata": {},
     "output_type": "display_data"
    }
   ],
   "source": [
    "# Посмотрим на распределение данных.\n",
    "sns.set_theme(style=\"whitegrid\") # устанавливаем стиль для более элегантных графиков\n",
    "plt.figure(figsize=(16, 8))\n",
    "sns.histplot(x=\"rev\", hue=\"grp\", data=df_groups_checks, bins=30, kde=True, alpha=0.7)\n",
    "plt.title('Распределение средней выручки по группам')\n",
    "plt.show()"
   ]
  },
  {
   "cell_type": "code",
   "execution_count": 21,
   "id": "03aaec4f-6b13-47a0-adc2-cd7f8c675985",
   "metadata": {},
   "outputs": [
    {
     "data": {
      "image/png": "[encoded data removed]",
      "text/plain": [
       "<Figure size 720x432 with 1 Axes>"
      ]
     },
     "metadata": {},
     "output_type": "display_data"
    }
   ],
   "source": [
    "plt.figure(figsize=(10, 6))\n",
    "sns.boxplot(x='grp', y='rev', data=df_groups_checks)\n",
    "plt.title('Выручка по группам')\n",
    "plt.show()"
   ]
  },
  {
   "cell_type": "code",
   "execution_count": 22,
   "id": "da8008fe-e0b9-4d39-bbf0-9a545bbe1d45",
   "metadata": {},
   "outputs": [
    {
     "data": {
      "text/html": [
       "<div>\n",
       "<style scoped>\n",
       "    .dataframe tbody tr th:only-of-type {\n",
       "        vertical-align: middle;\n",
       "    }\n",
       "\n",
       "    .dataframe tbody tr th {\n",
       "        vertical-align: top;\n",
       "    }\n",
       "\n",
       "    .dataframe thead th {\n",
       "        text-align: right;\n",
       "    }\n",
       "</style>\n",
       "<table border=\"1\" class=\"dataframe\">\n",
       "  <thead>\n",
       "    <tr style=\"text-align: right;\">\n",
       "      <th></th>\n",
       "      <th>W</th>\n",
       "      <th>pval</th>\n",
       "      <th>normal</th>\n",
       "    </tr>\n",
       "    <tr>\n",
       "      <th>grp</th>\n",
       "      <th></th>\n",
       "      <th></th>\n",
       "      <th></th>\n",
       "    </tr>\n",
       "  </thead>\n",
       "  <tbody>\n",
       "    <tr>\n",
       "      <th>B</th>\n",
       "      <td>0.867236</td>\n",
       "      <td>8.947893e-19</td>\n",
       "      <td>False</td>\n",
       "    </tr>\n",
       "    <tr>\n",
       "      <th>A</th>\n",
       "      <td>0.719612</td>\n",
       "      <td>5.321688e-13</td>\n",
       "      <td>False</td>\n",
       "    </tr>\n",
       "  </tbody>\n",
       "</table>\n",
       "</div>"
      ],
      "text/plain": [
       "            W          pval  normal\n",
       "grp                                \n",
       "B    0.867236  8.947893e-19   False\n",
       "A    0.719612  5.321688e-13   False"
      ]
     },
     "execution_count": 22,
     "metadata": {},
     "output_type": "execute_result"
    }
   ],
   "source": [
    "# Проверим контрольную и тестовую группу на нормальность\n",
    "pg.normality(data=df_groups_checks, dv=\"rev\", group=\"grp\", method=\"shapiro\")"
   ]
  },
  {
   "cell_type": "code",
   "execution_count": 23,
   "id": "f8aec53e-8207-4590-878d-81bc576fd1ad",
   "metadata": {},
   "outputs": [
    {
     "data": {
      "text/html": [
       "<div>\n",
       "<style scoped>\n",
       "    .dataframe tbody tr th:only-of-type {\n",
       "        vertical-align: middle;\n",
       "    }\n",
       "\n",
       "    .dataframe tbody tr th {\n",
       "        vertical-align: top;\n",
       "    }\n",
       "\n",
       "    .dataframe thead th {\n",
       "        text-align: right;\n",
       "    }\n",
       "</style>\n",
       "<table border=\"1\" class=\"dataframe\">\n",
       "  <thead>\n",
       "    <tr style=\"text-align: right;\">\n",
       "      <th></th>\n",
       "      <th>W</th>\n",
       "      <th>pval</th>\n",
       "      <th>equal_var</th>\n",
       "    </tr>\n",
       "  </thead>\n",
       "  <tbody>\n",
       "    <tr>\n",
       "      <th>levene</th>\n",
       "      <td>4.478901</td>\n",
       "      <td>0.034774</td>\n",
       "      <td>False</td>\n",
       "    </tr>\n",
       "  </tbody>\n",
       "</table>\n",
       "</div>"
      ],
      "text/plain": [
       "               W      pval  equal_var\n",
       "levene  4.478901  0.034774      False"
      ]
     },
     "execution_count": 23,
     "metadata": {},
     "output_type": "execute_result"
    }
   ],
   "source": [
    "# Проверим равенство дисперсий тестом Левена.\n",
    "df_cleaned = df_groups_checks.dropna()\n",
    "pg.homoscedasticity(data=df_cleaned, dv=\"rev\", group=\"grp\")"
   ]
  },
  {
   "cell_type": "markdown",
   "id": "45a61819-9d04-40b9-946f-91634b85a658",
   "metadata": {},
   "source": [
    "<span style=\"font-size: 18px;\"> \n",
    "Тест Шапиро-Уилка показал, что распределения не являются нормальными, а тест Левена определил, что дисперсии не равны.\n",
    "    \n",
    "Несмотря на ненормальность данных, мы всё же можем применить t-тест для анализа статистической значимости результатов A/B-теста, т.к. выборки достаточно большие. Кроме того, непараметрический тест не позволит оценить разницу между средними значениями.\n",
    "\n",
    "Для снижения влияния от неравной размерности выборок применим поправку Уэлча.\n",
    "</span>"
   ]
  },
  {
   "cell_type": "code",
   "execution_count": 24,
   "id": "4612de38-7a54-41c8-af2e-d3916c3f05d1",
   "metadata": {
    "tags": []
   },
   "outputs": [
    {
     "data": {
      "text/plain": [
       "Ttest_indResult(statistic=-2.8670185482728643, pvalue=0.004731862454849822)"
      ]
     },
     "execution_count": 24,
     "metadata": {},
     "output_type": "execute_result"
    }
   ],
   "source": [
    "control = df_groups_checks.query(\"grp == 'A' & rev > 0\").rev\n",
    "test = df_groups_checks.query(\"grp == 'B' & rev > 0\").rev\n",
    "st.ttest_ind(control, test, equal_var = False)"
   ]
  },
  {
   "cell_type": "markdown",
   "id": "583843fd-21e4-44ac-a3ac-b4de5b6179ce",
   "metadata": {},
   "source": [
    "<span style=\"font-size: 18px;\"> \n",
    "Значение p-value составило 0,005, что меньше заданного уровня значимости. Это является основанием отвергнуть нулевую гипотезу о равенстве средней выручки в контрольной и тестовой группах.\n",
    "    \n",
    "Иными словами, анализ показал, что средний чек  в тестовой группе действительно выше, чем в контрольной, и это различие статистически значимо.\n",
    "\n",
    "Так как единственным отличием между группами была механика оплаты (допускаем, что соблюдены правила формирования выборок для теста, и они идентичны), то по результатам анализа можно утверждать, что запуск новой механики оплаты на всех пользователей приведёт к росту среднего чека и, как следствие, к росту дохода компании.\n",
    "</span>"
   ]
  },
  {
   "cell_type": "markdown",
   "id": "68d17b87-1eef-41ad-89d6-94fa2517a3c7",
   "metadata": {},
   "source": [
    "## Задание 2. SQL"
   ]
  },
  {
   "cell_type": "markdown",
   "id": "666ec5af-8fae-489a-aaeb-09e60b0823e8",
   "metadata": {
    "jupyter": {
     "source_hidden": true
    },
    "tags": []
   },
   "source": [
    "2.1 Очень усердные ученики.\n",
    "\n",
    "2.1.1 Условие\n",
    "\n",
    "Образовательные курсы состоят из различных уроков, каждый из которых состоит из нескольких \n",
    "маленьких заданий. Каждое такое маленькое задание называется \"горошиной\".\n",
    "\n",
    "Назовём очень усердным учеником того пользователя, который хотя бы раз за текущий месяц \n",
    "правильно решил 20 горошин.\n",
    "\n",
    "2.1.2 Задача\n",
    "\n",
    "Дана таблица peas:\n",
    "Необходимо написать оптимальный запрос, который даст информацию о количестве очень усердных \n",
    "студентов.NB! Под усердным студентом мы понимаем студента, который правильно решил 20 задач за текущий месяц."
   ]
  },
  {
   "cell_type": "markdown",
   "id": "dbb22c98-5292-499e-85b6-32c466e22d67",
   "metadata": {},
   "source": [
    "### 2.1.2 Задача"
   ]
  },
  {
   "cell_type": "code",
   "execution_count": null,
   "id": "31dbbacf-4318-434e-b2ac-09702cbf3537",
   "metadata": {},
   "outputs": [],
   "source": [
    "SELECT COUNT(st_id)\n",
    "FROM (SELECT st_id,\n",
    "             COUNT(correct) AS cnt\n",
    "      FROM peas\n",
    "      WHERE correct = 'true' \n",
    "      GROUP BY st_id\n",
    "      HAVING COUNT(correct) >=20) AS diligent_peas\n",
    ";"
   ]
  },
  {
   "cell_type": "markdown",
   "id": "4d105631-0d8f-4b82-8cf8-cd0852bab763",
   "metadata": {
    "jupyter": {
     "source_hidden": true
    },
    "tags": []
   },
   "source": [
    "2.2 Оптимизация воронки\n",
    "\n",
    "2.2.1 Условие\n",
    "\n",
    "Образовательная платформа предлагает пройти студентам курсы по модели trial: студент может \n",
    "решить бесплатно лишь 30 горошин в день. Для неограниченного количества заданий в определенной \n",
    "дисциплине студенту необходимо приобрести полный доступ. Команда провела эксперимент, где \n",
    "был протестирован новый экран оплаты.\n",
    "\n",
    "2.2.2 Задача\n",
    "\n",
    "Дана таблицы: peas (см. выше), studs:\n",
    "и final_project_check:\n",
    "\n",
    "Необходимо в одном запросе выгрузить следующую информацию о группах пользователей:\n",
    "\n",
    "ARPU \n",
    "ARPAU \n",
    "CR в покупку \n",
    "СR активного пользователя в покупку \n",
    "CR пользователя из активности по математике (subject = ’math’) в покупку курса по математике\n",
    "ARPU считается относительно всех пользователей, попавших в группы.\n",
    "\n",
    "Активным считается пользователь, за все время решивший больше 10 задач правильно в любых \n",
    "дисциплинах.\n",
    "\n",
    "Активным по математике считается пользователь, за все время решивший 2 или больше задач \n",
    "правильно по математике."
   ]
  },
  {
   "cell_type": "markdown",
   "id": "2ff2a5ac-ac56-4fc5-ad4c-d2bf69c015f1",
   "metadata": {},
   "source": [
    "### 2.2.2 Задача"
   ]
  },
  {
   "cell_type": "code",
   "execution_count": null,
   "id": "4f7ad831-0620-4421-91db-18fc0291eee5",
   "metadata": {},
   "outputs": [],
   "source": [
    "WITH \n",
    "-- Показатели по всем клиентам\n",
    "\n",
    "all_students AS (\n",
    "  SELECT\n",
    "    studs.test_grp,\n",
    "    COUNT(DISTINCT st_id) AS all_students_cnt\n",
    "  FROM\n",
    "    peas\n",
    "    LEFT JOIN studs USING(st_id)\n",
    "  GROUP BY\n",
    "    studs.test_grp\n",
    "),\n",
    "\n",
    "-- Показатели по платящим клиентам\n",
    "\n",
    "paying_students AS (\n",
    "  SELECT\n",
    "    studs.test_grp,\n",
    "    COUNT(DISTINCT sales.st_id) AS paying_students_cnt,\n",
    "    SUM(sales.money) AS revenue\n",
    "  FROM\n",
    "    final_project_check AS sales\n",
    "    LEFT JOIN studs USING(st_id)\n",
    "  GROUP BY\n",
    "    studs.test_grp\n",
    "),\n",
    "\n",
    "-- Показатели по активным клиентам\n",
    "\n",
    "active_students AS (\n",
    "  SELECT\n",
    "    test_grp,\n",
    "    COUNT(DISTINCT st_id) AS active_students_cnt\n",
    "  FROM\n",
    "    (\n",
    "      SELECT\n",
    "        st_id,\n",
    "        studs.test_grp,\n",
    "        COUNT(correct)\n",
    "      FROM\n",
    "        peas\n",
    "        LEFT JOIN studs USING(st_id)\n",
    "      WHERE\n",
    "        peas.correct = 'True'\n",
    "      GROUP BY\n",
    "        st_id,\n",
    "        studs.test_grp\n",
    "      HAVING\n",
    "        COUNT(peas.correct) > 10\n",
    "    ) AS act\n",
    "  GROUP BY\n",
    "    test_grp\n",
    "),\n",
    "\n",
    "-- Показатели по активным клиентам по математике\n",
    "\n",
    "math_active_students AS (\n",
    "  SELECT\n",
    "    test_grp,\n",
    "    COUNT(DISTINCT st_id) AS math_active_students_cnt\n",
    "  FROM\n",
    "    (\n",
    "      SELECT\n",
    "        st_id,\n",
    "        studs.test_grp,\n",
    "        COUNT(correct)\n",
    "      FROM\n",
    "        peas\n",
    "        LEFT JOIN studs USING(st_id)\n",
    "      WHERE\n",
    "        peas.correct = 'True'\n",
    "        AND peas.subject = 'Math'\n",
    "      GROUP BY\n",
    "        st_id,\n",
    "        studs.test_grp\n",
    "      HAVING\n",
    "        COUNT(correct) >= 2\n",
    "    ) AS act\n",
    "  GROUP BY\n",
    "    test_grp\n",
    "),\n",
    "\n",
    "-- Показатели по клиентам курса \"математика\", совершившим покупку\n",
    "\n",
    "math_paying_students AS(\n",
    "  SELECT\n",
    "    studs.test_grp,\n",
    "    COUNT(DISTINCT st_id) AS math_paying_students_cnt\n",
    "  FROM\n",
    "    final_project_check AS sales\n",
    "    LEFT JOIN studs USING(st_id)\n",
    "  WHERE\n",
    "    sales.subject = 'Math'\n",
    "  GROUP BY\n",
    "    studs.test_grp\n",
    ")\n",
    "\n",
    "\n",
    "\n",
    "SELECT\n",
    "  test_grp,\n",
    "  pay_st.revenue / st.all_students_cnt AS arpu,\n",
    "  pay_st.revenue / act_st.active_students_cnt AS arpau,\n",
    "  pay_st.paying_students_cnt / st.all_students_cnt :: float * 100 AS cr_purchase,\n",
    "  pay_st.paying_students_cnt / act_st.active_students_cnt :: float * 100 AS cr_purchase_active,\n",
    "  m_pay_st.math_paying_students_cnt / math_active_students_cnt :: float * 100 AS cr_purchase_math_active\n",
    "FROM\n",
    "  all_students AS st\n",
    "  JOIN paying_students AS pay_st USING(test_grp)\n",
    "  JOIN active_students AS act_st USING(test_grp)\n",
    "  JOIN math_active_students AS m_act_st USING(test_grp)\n",
    "  JOIN math_paying_students AS m_pay_st USING(test_grp)"
   ]
  },
  {
   "cell_type": "markdown",
   "id": "65675565-1d1f-48d6-b0e6-bd69dba8c9dd",
   "metadata": {},
   "source": [
    " "
   ]
  },
  {
   "cell_type": "markdown",
   "id": "37b1c8e0-6a3f-4f43-9e11-10659c9db849",
   "metadata": {
    "tags": []
   },
   "source": [
    "## Задание 3. Python"
   ]
  },
  {
   "cell_type": "markdown",
   "id": "a4caa94d-d14a-4245-9336-4bfebc5de76d",
   "metadata": {
    "jupyter": {
     "source_hidden": true
    },
    "tags": []
   },
   "source": [
    "3.1 Задача\n",
    "\n",
    "1. Реализуйте функцию, которая будет автоматически подгружать информацию из дополнительного \n",
    "файла groups_add.csv (заголовки могут отличаться) и на основании дополнительных параметров \n",
    "пересчитывать метрики."
   ]
  },
  {
   "cell_type": "code",
   "execution_count": 37,
   "id": "d5b9a2f4-b3ea-4d64-8745-065db927cc7f",
   "metadata": {},
   "outputs": [],
   "source": [
    "# 1. Определим функцию для подгрузки доп. файла к общим данным.\n",
    "\n",
    "def upload_and_process_data(file_path, additional_params):\n",
    "    \n",
    "    # Шаг 1: Загрузка данных из CSV файла с Яндекс-диска\n",
    "    try:\n",
    "        # Сохраняем базовую ссылку на Яндекс-диск в переменную.\n",
    "        base_url = 'https://cloud-api.yandex.net/v1/disk/public/resources/download?'\n",
    "        \n",
    "        # Сохраняем ссылку на файл на Яндекс-диске в переменную.\n",
    "        public_key_groups_add = file_path\n",
    "        \n",
    "        # Получаем загрузочную ссылку/ Подготовка ссылки на скачивание\n",
    "        final_url_groups_add = base_url + urlencode(dict(public_key=public_key_groups_add))\n",
    "        response_groups_add = requests.get(final_url_groups_add)  # запрос ссылки на скачивание\n",
    "        download_url_groups_add = response_groups_add.json()['href']  # 'парсинг' ссылки на скачивание\n",
    "        # Загрузка данных в DataFrame\n",
    "        df_groups_add = pd.read_csv(download_url_groups_add, sep=',', comment='#' , encoding='cp1251')        \n",
    "    # Прописываем исключения на случай, если ссылка не сработает          \n",
    "    except FileNotFoundError:\n",
    "        print(f\"Файл {file_path} не найден.\")\n",
    "        return None\n",
    "    except pd.errors.EmptyDataError:\n",
    "        print(\"Файл пуст.\")\n",
    "        return None\n",
    "    except Exception as e:\n",
    "        print(f\"Произошла ошибка при загрузке файла: {e}\")\n",
    "        return None\n",
    "    \n",
    "    # Шаг 2: Объединяем имеющийся файл с новыми данными, перезаписываем переменную\n",
    "    df_groups_final_new = pd.concat([df_groups_final, df_groups_add], axis=0, ignore_index=True)\n",
    "        \n",
    "    # Шаг 3: Нормализация заголовков \n",
    "    expected_columns = {\n",
    "        'student_id': 'student_id',\n",
    "        'grp': 'grp'\n",
    "    }\n",
    "    \n",
    "    # Переименовываем колонки, если они отличаются\n",
    "    df_groups_final_new.rename(columns={col: expected_columns.get(col, col) for col in df_groups_final.columns}, inplace=True)\n",
    "\n",
    "    # Шаг 4: Объединяем сводный файл с продажами, перезаписываем переменную\n",
    "    df_groups_checks = pd.merge(df_groups_final_new, df_checks, on = 'student_id', how = 'left')\n",
    "    \n",
    "    # Шаг 5: Пересчитываем метрики, сохраним в новую переменную\n",
    "    metrics_added = df_groups_checks.groupby('grp') \\\n",
    "                          .agg(\n",
    "                          user_cnt = ('student_id', 'count'),\n",
    "                          active_cnt = ('active', 'sum'),\n",
    "                          paying_cnt = ('rev', 'count'),\n",
    "                          revenue = ('rev', 'sum')\n",
    "                          )\n",
    "\n",
    "    metrics_added = pd.merge(metrics_added, paying_active, how = 'left', on = 'grp') \\\n",
    "                .rename(columns = {'rev' : 'paying_active_cnt'})\n",
    "    metrics_added['revenue'] = metrics_added.revenue.round()\n",
    "    metrics_added['grp_%'] = round(metrics_added.user_cnt/ metrics_added.user_cnt.sum()*100)\n",
    "    metrics_added['active_%'] = round(metrics_added.active_cnt / metrics_added.active_cnt.sum()*100)\n",
    "    metrics_added['paying_%'] = round(metrics_added.paying_cnt / metrics_added.paying_cnt.sum()*100)\n",
    "    metrics_added['arpu'] = round(metrics_added.revenue/ metrics_added.user_cnt)\n",
    "    metrics_added['arppu'] = round(metrics_added.revenue/ metrics_added.paying_cnt)\n",
    "    metrics_added['arpau'] = round(metrics_added.revenue/ metrics_added.active_cnt)\n",
    "    metrics_added['cr_active'] = round(metrics_added.active_cnt / metrics_added.user_cnt.sum()*100)\n",
    "    metrics_added['cr_paying'] = round(metrics_added.paying_cnt / metrics_added.user_cnt.sum()*100,2)\n",
    "    metrics_added['cr_active_to_paying'] = round(metrics_added.paying_active_cnt / metrics_added.active_cnt.sum()*100,2)\n",
    "    \n",
    "    # Шаг 3: Пересчет метрик на основании дополнительных параметров\n",
    "    if 'operation' in additional_params:\n",
    "        operation = additional_params['operation']\n",
    "        \n",
    "        if operation == 'arpu':\n",
    "            result = metrics_added.arpu\n",
    "        elif operation == 'arpau':\n",
    "            result = metrics_added.arpau\n",
    "        elif operation == 'cr в покупку':\n",
    "            result = metrics_added.cr_paying\n",
    "        elif operation == 'cr в активного пользователя':\n",
    "            result = metrics_added.cr_active    \n",
    "        elif operation == 'cr активного пользователя в покупку':\n",
    "            result = metrics_added.cr_active_to_paying        \n",
    "        else:\n",
    "            print(\"Неизвестная операция.\")\n",
    "            return None\n",
    "    else:\n",
    "        print(\"Дополнительные параметры не указаны.\")\n",
    "        return None\n",
    "\n",
    "    return result"
   ]
  },
  {
   "cell_type": "code",
   "execution_count": 48,
   "id": "024ad940-cfca-4147-8031-8bf3d613ae0c",
   "metadata": {},
   "outputs": [
    {
     "name": "stdout",
     "output_type": "stream",
     "text": [
      "grp\n",
      "A    60.0\n",
      "B    71.0\n",
      "Name: arpau, dtype: float64\n"
     ]
    }
   ],
   "source": [
    "# Пример\n",
    "additional_params = {'operation': 'arpau'}\n",
    "result = upload_and_process_data('https://disk.yandex.ru/d/5Kxrz02m3IBUwQ', additional_params)\n",
    "\n",
    "if result is not None:\n",
    "    print(result)"
   ]
  },
  {
   "cell_type": "markdown",
   "id": "24843014-e370-4ecb-8efd-5ede3029b94c",
   "metadata": {
    "jupyter": {
     "source_hidden": true
    },
    "tags": []
   },
   "source": [
    "2. Реализуйте функцию, которая будет строить графики по получаемым метрикам."
   ]
  },
  {
   "cell_type": "code",
   "execution_count": 82,
   "id": "bb3c80e2-dc29-4e48-a93d-e241ea8c0349",
   "metadata": {},
   "outputs": [],
   "source": [
    "def visualization(df, title='Метрика по контрольной и тестовой группам', xlabel='Группа', ylabel='Значение', kind = 'bar'):\n",
    "    plt.figure(figsize=(10, 6))\n",
    "    ax = df.plot(kind=kind)\n",
    "    for i, value in enumerate(df):\n",
    "        # Добавляем подпись\n",
    "        ax.text(i, value, f'{value:.2f}', fontsize=10, ha='center', va='bottom')\n",
    "    plt.title(title)\n",
    "    plt.xlabel(xlabel)\n",
    "    plt.ylabel(ylabel)\n",
    "    plt.legend()\n",
    "    plt.grid(True)\n",
    "    plt.show()"
   ]
  },
  {
   "cell_type": "code",
   "execution_count": 83,
   "id": "b2a0493b-4c27-4fd6-a143-09eed242b5df",
   "metadata": {},
   "outputs": [
    {
     "data": {
      "image/png": "[encoded data removed]",
      "text/plain": [
       "<Figure size 720x432 with 1 Axes>"
      ]
     },
     "metadata": {},
     "output_type": "display_data"
    }
   ],
   "source": [
    "# Пример\n",
    "visualization(result)"
   ]
  }
 ],
 "metadata": {
  "kernelspec": {
   "display_name": "Python 3 (ipykernel)",
   "language": "python",
   "name": "python3"
  },
  "language_info": {
   "codemirror_mode": {
    "name": "ipython",
    "version": 3
   },
   "file_extension": ".py",
   "mimetype": "text/x-python",
   "name": "python",
   "nbconvert_exporter": "python",
   "pygments_lexer": "ipython3",
   "version": "3.8.10"
  }
 },
 "nbformat": 4,
 "nbformat_minor": 5
}
